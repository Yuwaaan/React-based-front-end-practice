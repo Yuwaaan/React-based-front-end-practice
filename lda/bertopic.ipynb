{
 "cells": [
  {
   "cell_type": "code",
   "execution_count": 7,
   "metadata": {
    "execution": {
     "iopub.execute_input": "2022-04-02T21:21:55.771939Z",
     "iopub.status.busy": "2022-04-02T21:21:55.771686Z",
     "iopub.status.idle": "2022-04-02T21:23:30.125566Z",
     "shell.execute_reply": "2022-04-02T21:23:30.124750Z",
     "shell.execute_reply.started": "2022-04-02T21:21:55.771911Z"
    }
   },
   "outputs": [],
   "source": [
    "# !pip install bertopic"
   ]
  },
  {
   "cell_type": "code",
   "execution_count": 8,
   "metadata": {
    "execution": {
     "iopub.execute_input": "2022-04-02T21:23:30.128157Z",
     "iopub.status.busy": "2022-04-02T21:23:30.127857Z",
     "iopub.status.idle": "2022-04-02T21:23:51.499021Z",
     "shell.execute_reply": "2022-04-02T21:23:51.498325Z",
     "shell.execute_reply.started": "2022-04-02T21:23:30.128119Z"
    }
   },
   "outputs": [],
   "source": [
    "import pandas as pd \n",
    "import numpy as np\n",
    "import csv\n",
    "import re\n",
    "from nltk.corpus import stopwords  \n",
    "from nltk.tokenize import word_tokenize\n",
    "from bertopic import BERTopic"
   ]
  },
  {
   "cell_type": "code",
   "execution_count": 9,
   "metadata": {
    "execution": {
     "iopub.execute_input": "2022-04-02T21:23:51.502204Z",
     "iopub.status.busy": "2022-04-02T21:23:51.500231Z",
     "iopub.status.idle": "2022-04-02T21:23:51.688468Z",
     "shell.execute_reply": "2022-04-02T21:23:51.687651Z",
     "shell.execute_reply.started": "2022-04-02T21:23:51.502172Z"
    }
   },
   "outputs": [],
   "source": [
    "df = pd.read_csv('id_df_1000_new_tranlated.csv', sep='\\001', quoting=csv.QUOTE_NONE, encoding='utf-8')\n",
    "df.head()"
   ]
  },
  {
   "cell_type": "code",
   "execution_count": 10,
   "metadata": {
    "execution": {
     "iopub.execute_input": "2022-04-02T21:23:51.690789Z",
     "iopub.status.busy": "2022-04-02T21:23:51.690475Z",
     "iopub.status.idle": "2022-04-02T21:23:51.697245Z",
     "shell.execute_reply": "2022-04-02T21:23:51.696387Z",
     "shell.execute_reply.started": "2022-04-02T21:23:51.690751Z"
    }
   },
   "outputs": [],
   "source": [
    "twitter_trans = df['translation']\n",
    "# twitter_trans[3559]  "
   ]
  },
  {
   "cell_type": "code",
   "execution_count": 11,
   "metadata": {
    "execution": {
     "iopub.execute_input": "2022-04-02T21:23:51.698847Z",
     "iopub.status.busy": "2022-04-02T21:23:51.698606Z",
     "iopub.status.idle": "2022-04-02T21:23:53.571960Z",
     "shell.execute_reply": "2022-04-02T21:23:53.571183Z",
     "shell.execute_reply.started": "2022-04-02T21:23:51.698815Z"
    }
   },
   "outputs": [],
   "source": [
    "# preprocess\n",
    "def preprocess_data(trans):\n",
    "    twitter_clean = []\n",
    "    stopwords_english = stopwords.words('english') \n",
    "    for tweet in twitter_trans:  \n",
    "        tweet = re.sub(r'@[^\\s\\n\\r]+', '', tweet) \n",
    "        tweet = re.sub(r'[Hh]ttps?://[^\\s\\n\\r]+', '', tweet) \n",
    "        tweet = re.sub(r'[-+,.()\"\"/:]*', '', tweet) \n",
    "        tweet = re.sub(r'RT[\\s]+', '', tweet)  \n",
    "        tweet = tweet.split()\n",
    "        tokens = [w for w in tweet if not w.lower() in stopwords_english]\n",
    "        tweet = ' '.join(tokens)\n",
    "        twitter_clean.append(tweet)\n",
    "    return twitter_clean\n",
    "\n",
    "twitter_clean = preprocess_data(twitter_trans)\n",
    "# twitter_clean"
   ]
  },
  {
   "cell_type": "code",
   "execution_count": 12,
   "metadata": {
    "execution": {
     "iopub.execute_input": "2022-04-02T21:23:53.573786Z",
     "iopub.status.busy": "2022-04-02T21:23:53.573522Z",
     "iopub.status.idle": "2022-04-02T21:25:29.581254Z",
     "shell.execute_reply": "2022-04-02T21:25:29.580484Z",
     "shell.execute_reply.started": "2022-04-02T21:23:53.573748Z"
    }
   },
   "outputs": [],
   "source": [
    "topic_model = BERTopic()\n",
    "\n",
    "topics, probabilities = topic_model.fit_transform(twitter_clean)"
   ]
  },
  {
   "cell_type": "code",
   "execution_count": 13,
   "metadata": {
    "execution": {
     "iopub.execute_input": "2022-04-02T21:25:29.582776Z",
     "iopub.status.busy": "2022-04-02T21:25:29.582529Z",
     "iopub.status.idle": "2022-04-02T21:25:29.597398Z",
     "shell.execute_reply": "2022-04-02T21:25:29.596588Z",
     "shell.execute_reply.started": "2022-04-02T21:25:29.582743Z"
    }
   },
   "outputs": [],
   "source": [
    "# after preprocessing\n",
    "topic = topic_model.get_topic_info()\n",
    "topic.head(10)"
   ]
  },
  {
   "cell_type": "code",
   "execution_count": 15,
   "metadata": {
    "execution": {
     "iopub.execute_input": "2022-04-02T21:27:25.929296Z",
     "iopub.status.busy": "2022-04-02T21:27:25.928878Z",
     "iopub.status.idle": "2022-04-02T21:27:43.911724Z",
     "shell.execute_reply": "2022-04-02T21:27:43.910943Z",
     "shell.execute_reply.started": "2022-04-02T21:27:25.929252Z"
    }
   },
   "outputs": [],
   "source": [
    "topic_model.get_topic(49)[:10]\n",
    "topic_model.visualize_topics()"
   ]
  },
  {
   "cell_type": "code",
   "execution_count": 16,
   "metadata": {
    "execution": {
     "iopub.execute_input": "2022-04-02T21:27:43.913599Z",
     "iopub.status.busy": "2022-04-02T21:27:43.913297Z",
     "iopub.status.idle": "2022-04-02T21:27:44.140109Z",
     "shell.execute_reply": "2022-04-02T21:27:44.139489Z",
     "shell.execute_reply.started": "2022-04-02T21:27:43.913557Z"
    }
   },
   "outputs": [],
   "source": [
    "topic_model.visualize_barchart()"
   ]
  },
  {
   "cell_type": "code",
   "execution_count": 18,
   "metadata": {
    "execution": {
     "iopub.execute_input": "2022-04-02T21:28:18.088064Z",
     "iopub.status.busy": "2022-04-02T21:28:18.087370Z",
     "iopub.status.idle": "2022-04-02T21:29:23.960939Z",
     "shell.execute_reply": "2022-04-02T21:29:23.960248Z",
     "shell.execute_reply.started": "2022-04-02T21:28:18.088024Z"
    }
   },
   "outputs": [],
   "source": [
    "# before preprocessing\n",
    "topic_trans = BERTopic()\n",
    "topics, probabilities = topic_trans.fit_transform(twitter_trans)\n",
    "topic = topic_trans.get_topic_info()\n",
    "topic.head(10)"
   ]
  },
  {
   "cell_type": "code",
   "execution_count": 19,
   "metadata": {
    "execution": {
     "iopub.execute_input": "2022-04-02T21:29:23.963038Z",
     "iopub.status.busy": "2022-04-02T21:29:23.962427Z",
     "iopub.status.idle": "2022-04-02T21:29:40.003402Z",
     "shell.execute_reply": "2022-04-02T21:29:40.001014Z",
     "shell.execute_reply.started": "2022-04-02T21:29:23.962996Z"
    }
   },
   "outputs": [],
   "source": [
    "topic_trans.get_topic(49)[:10]\n",
    "topic_trans.visualize_topics()"
   ]
  },
  {
   "cell_type": "code",
   "execution_count": 20,
   "metadata": {
    "execution": {
     "iopub.execute_input": "2022-04-02T21:29:40.004979Z",
     "iopub.status.busy": "2022-04-02T21:29:40.004620Z",
     "iopub.status.idle": "2022-04-02T21:29:40.197054Z",
     "shell.execute_reply": "2022-04-02T21:29:40.196410Z",
     "shell.execute_reply.started": "2022-04-02T21:29:40.004937Z"
    }
   },
   "outputs": [],
   "source": [
    "topic_trans.visualize_barchart()"
   ]
  },
  {
   "cell_type": "code",
   "execution_count": null,
   "metadata": {},
   "outputs": [],
   "source": []
  }
 ],
 "metadata": {
  "kernelspec": {
   "display_name": "Python 3 (ipykernel)",
   "language": "python",
   "name": "python3"
  },
  "language_info": {
   "codemirror_mode": {
    "name": "ipython",
    "version": 3
   },
   "file_extension": ".py",
   "mimetype": "text/x-python",
   "name": "python",
   "nbconvert_exporter": "python",
   "pygments_lexer": "ipython3",
   "version": "3.7.3"
  }
 },
 "nbformat": 4,
 "nbformat_minor": 4
}
